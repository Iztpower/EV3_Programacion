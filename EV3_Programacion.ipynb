{
  "metadata": {
    "language_info": {
      "codemirror_mode": {
        "name": "python",
        "version": 3
      },
      "file_extension": ".py",
      "mimetype": "text/x-python",
      "name": "python",
      "nbconvert_exporter": "python",
      "pygments_lexer": "ipython3",
      "version": "3.8"
    },
    "kernelspec": {
      "name": "python",
      "display_name": "Python (Pyodide)",
      "language": "python"
    }
  },
  "nbformat_minor": 4,
  "nbformat": 4,
  "cells": [
    {
      "cell_type": "code",
      "source": "import pickle\n\n# Datos de ejemplo\ndatos = {\n    'nombre': 'Alice',\n    'edad': 30,\n    'ciudad': 'Ejemploville'\n}\n\n# Guardar los datos en un archivo usando pickle\nwith open('datos.pkl', 'wb') as archivo:\n    pickle.dump(datos, archivo)\n\n# Cargar los datos desde el archivo usando pickle\nwith open('datos.pkl', 'rb') as archivo:\n    datos_cargados = pickle.load(archivo)\n\nprint(\"Datos cargados desde el archivo pickle:\")\nprint(datos_cargados)\n",
      "metadata": {
        "trusted": true
      },
      "execution_count": null,
      "outputs": []
    },
    {
      "cell_type": "code",
      "source": "",
      "metadata": {},
      "execution_count": null,
      "outputs": []
    }
  ]
}